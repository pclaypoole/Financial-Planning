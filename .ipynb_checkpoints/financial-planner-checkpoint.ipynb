{
 "cells": [
  {
   "cell_type": "markdown",
   "metadata": {},
   "source": [
    "# Unit 5 - Financial Planning\n"
   ]
  },
  {
   "cell_type": "code",
   "execution_count": 1,
   "metadata": {},
   "outputs": [],
   "source": [
    "# Initial imports\n",
    "import os\n",
    "import json\n",
    "import requests\n",
    "import pandas as pd\n",
    "from dotenv import load_dotenv\n",
    "import alpaca_trade_api as tradeapi\n",
    "from MCForecastTools import MCSimulation\n",
    "\n",
    "\n",
    "%matplotlib inline"
   ]
  },
  {
   "cell_type": "code",
   "execution_count": 2,
   "metadata": {},
   "outputs": [
    {
     "data": {
      "text/plain": [
       "True"
      ]
     },
     "execution_count": 2,
     "metadata": {},
     "output_type": "execute_result"
    }
   ],
   "source": [
    "# Load .env enviroment variables\n",
    "load_dotenv()"
   ]
  },
  {
   "cell_type": "markdown",
   "metadata": {},
   "source": [
    "## Part 1 - Personal Finance Planner"
   ]
  },
  {
   "cell_type": "code",
   "execution_count": 3,
   "metadata": {},
   "outputs": [],
   "source": [
    "# Set monthly household income\n",
    "monthly_income = 500"
   ]
  },
  {
   "cell_type": "markdown",
   "metadata": {},
   "source": [
    "### Collect Crypto Prices Using the `requests` Library"
   ]
  },
  {
   "cell_type": "code",
   "execution_count": 4,
   "metadata": {},
   "outputs": [],
   "source": [
    "# Current amount of crypto assets\n",
    "my_btc = 1.2\n",
    "my_eth = 5.3"
   ]
  },
  {
   "cell_type": "code",
   "execution_count": 5,
   "metadata": {},
   "outputs": [],
   "source": [
    "# Crypto API URLs\n",
    "btc_url = \"https://api.alternative.me/v2/ticker/Bitcoin/?convert=USD\"\n",
    "eth_url = \"https://api.alternative.me/v2/ticker/Ethereum/?convert=USD\""
   ]
  },
  {
   "cell_type": "code",
   "execution_count": 6,
   "metadata": {},
   "outputs": [],
   "source": [
    "#Add format specifier to request url\n",
    "btc_url = btc_url + \"?format=json\"\n",
    "eth_url = eth_url + \"?format=json\""
   ]
  },
  {
   "cell_type": "code",
   "execution_count": 7,
   "metadata": {},
   "outputs": [
    {
     "data": {
      "text/plain": [
       "<Response [200]>"
      ]
     },
     "execution_count": 7,
     "metadata": {},
     "output_type": "execute_result"
    }
   ],
   "source": [
    "# Execute get request for 'btc' and 'eth'\n",
    "requests.get(btc_url)"
   ]
  },
  {
   "cell_type": "code",
   "execution_count": 8,
   "metadata": {},
   "outputs": [
    {
     "data": {
      "text/plain": [
       "<Response [200]>"
      ]
     },
     "execution_count": 8,
     "metadata": {},
     "output_type": "execute_result"
    }
   ],
   "source": [
    "requests.get(eth_url)"
   ]
  },
  {
   "cell_type": "code",
   "execution_count": 9,
   "metadata": {},
   "outputs": [],
   "source": [
    "#Execute GET request and store response\n",
    "response_data_btc = requests.get(btc_url)\n",
    "response_data_eth = requests.get(eth_url)"
   ]
  },
  {
   "cell_type": "code",
   "execution_count": 10,
   "metadata": {},
   "outputs": [
    {
     "name": "stdout",
     "output_type": "stream",
     "text": [
      "b'{\\n\\t\"data\": {\\n\\t\\t\"1\": {\\n\\t\\t\\t\"id\": 1,\\n\\t\\t\\t\"name\": \"Bitcoin\",\\n\\t\\t\\t\"symbol\": \"BTC\",\\n\\t\\t\\t\"website_slug\": \"bitcoin\",\\n\\t\\t\\t\"rank\": 1,\\n\\t\\t\\t\"circulating_supply\": 18470931,\\n\\t\\t\\t\"total_supply\": 18470931,\\n\\t\\t\\t\"max_supply\": 21000000,\\n\\t\\t\\t\"quotes\": {\\n\\t\\t\\t\\t\"USD\": {\\n\\t\\t\\t\\t\\t\"price\": 11322.8500000000000000,\\n\\t\\t\\t\\t\\t\"volume_24h\": 22814386838,\\n\\t\\t\\t\\t\\t\"market_cap\": 208978066155,\\n\\t\\t\\t\\t\\t\"percentage_change_1h\": 0.1822475428612870,\\n\\t\\t\\t\\t\\t\"percentage_change_24h\": -3.5623618014443900,\\n\\t\\t\\t\\t\\t\"percentage_change_7d\": -5.2450726984976600,\\n\\t\\t\\t\\t\\t\"percent_change_1h\": 0.1822475428612870,\\n\\t\\t\\t\\t\\t\"percent_change_24h\": -3.5623618014443900,\\n\\t\\t\\t\\t\\t\"percent_change_7d\": -5.2450726984976600\\n\\t\\t\\t\\t}\\n\\t\\t\\t},\\n\\t\\t\\t\"last_updated\": 1598404460\\n\\t\\t}\\n\\t},\\n\\t\"metadata\": {\\n\\t\\t\"timestamp\": 1598404460,\\n\\t\\t\"num_cryptocurrencies\": 1491,\\n\\t\\t\"error\": null\\n\\t}\\n}'\n",
      "b'{\\n\\t\"data\": {\\n\\t\\t\"1027\": {\\n\\t\\t\\t\"id\": 1027,\\n\\t\\t\\t\"name\": \"Ethereum\",\\n\\t\\t\\t\"symbol\": \"ETH\",\\n\\t\\t\\t\"website_slug\": \"ethereum\",\\n\\t\\t\\t\"rank\": 2,\\n\\t\\t\\t\"circulating_supply\": 112332838,\\n\\t\\t\\t\"total_supply\": 112332838,\\n\\t\\t\\t\"max_supply\": 0,\\n\\t\\t\\t\"quotes\": {\\n\\t\\t\\t\\t\"USD\": {\\n\\t\\t\\t\\t\\t\"price\": 381.7300000000000000,\\n\\t\\t\\t\\t\\t\"volume_24h\": 12601770365,\\n\\t\\t\\t\\t\\t\"market_cap\": 42852322538,\\n\\t\\t\\t\\t\\t\"percentage_change_1h\": 0.1969494762733950,\\n\\t\\t\\t\\t\\t\"percentage_change_24h\": -5.8856666132320800,\\n\\t\\t\\t\\t\\t\"percentage_change_7d\": -9.5651067521069400,\\n\\t\\t\\t\\t\\t\"percent_change_1h\": 0.1969494762733950,\\n\\t\\t\\t\\t\\t\"percent_change_24h\": -5.8856666132320800,\\n\\t\\t\\t\\t\\t\"percent_change_7d\": -9.5651067521069400\\n\\t\\t\\t\\t}\\n\\t\\t\\t},\\n\\t\\t\\t\"last_updated\": 1598404333\\n\\t\\t}\\n\\t},\\n\\t\"metadata\": {\\n\\t\\t\"timestamp\": 1598404333,\\n\\t\\t\"num_cryptocurrencies\": 1491,\\n\\t\\t\"error\": null\\n\\t}\\n}'\n"
     ]
    }
   ],
   "source": [
    "#Get content for 'btc' and 'eth'\n",
    "response_content_btc = response_data_btc.content\n",
    "response_content_eth = response_data_eth.content\n",
    "print(response_content_btc)\n",
    "print(response_content_eth)"
   ]
  },
  {
   "cell_type": "code",
   "execution_count": 11,
   "metadata": {},
   "outputs": [
    {
     "name": "stdout",
     "output_type": "stream",
     "text": [
      "{\n",
      "    \"data\": {\n",
      "        \"1\": {\n",
      "            \"id\": 1,\n",
      "            \"name\": \"Bitcoin\",\n",
      "            \"symbol\": \"BTC\",\n",
      "            \"website_slug\": \"bitcoin\",\n",
      "            \"rank\": 1,\n",
      "            \"circulating_supply\": 18470931,\n",
      "            \"total_supply\": 18470931,\n",
      "            \"max_supply\": 21000000,\n",
      "            \"quotes\": {\n",
      "                \"USD\": {\n",
      "                    \"price\": 11322.85,\n",
      "                    \"volume_24h\": 22814386838,\n",
      "                    \"market_cap\": 208978066155,\n",
      "                    \"percentage_change_1h\": 0.182247542861287,\n",
      "                    \"percentage_change_24h\": -3.56236180144439,\n",
      "                    \"percentage_change_7d\": -5.24507269849766,\n",
      "                    \"percent_change_1h\": 0.182247542861287,\n",
      "                    \"percent_change_24h\": -3.56236180144439,\n",
      "                    \"percent_change_7d\": -5.24507269849766\n",
      "                }\n",
      "            },\n",
      "            \"last_updated\": 1598404460\n",
      "        }\n",
      "    },\n",
      "    \"metadata\": {\n",
      "        \"timestamp\": 1598404460,\n",
      "        \"num_cryptocurrencies\": 1491,\n",
      "        \"error\": null\n",
      "    }\n",
      "}\n",
      "{\n",
      "    \"data\": {\n",
      "        \"1027\": {\n",
      "            \"id\": 1027,\n",
      "            \"name\": \"Ethereum\",\n",
      "            \"symbol\": \"ETH\",\n",
      "            \"website_slug\": \"ethereum\",\n",
      "            \"rank\": 2,\n",
      "            \"circulating_supply\": 112332838,\n",
      "            \"total_supply\": 112332838,\n",
      "            \"max_supply\": 0,\n",
      "            \"quotes\": {\n",
      "                \"USD\": {\n",
      "                    \"price\": 381.73,\n",
      "                    \"volume_24h\": 12601770365,\n",
      "                    \"market_cap\": 42852322538,\n",
      "                    \"percentage_change_1h\": 0.196949476273395,\n",
      "                    \"percentage_change_24h\": -5.88566661323208,\n",
      "                    \"percentage_change_7d\": -9.56510675210694,\n",
      "                    \"percent_change_1h\": 0.196949476273395,\n",
      "                    \"percent_change_24h\": -5.88566661323208,\n",
      "                    \"percent_change_7d\": -9.56510675210694\n",
      "                }\n",
      "            },\n",
      "            \"last_updated\": 1598404333\n",
      "        }\n",
      "    },\n",
      "    \"metadata\": {\n",
      "        \"timestamp\": 1598404333,\n",
      "        \"num_cryptocurrencies\": 1491,\n",
      "        \"error\": null\n",
      "    }\n",
      "}\n"
     ]
    }
   ],
   "source": [
    "#Use json function to format\n",
    "data_btc = response_data_btc.json()\n",
    "data_eth = response_data_eth.json()\n",
    "print(json.dumps(data_btc, indent=4))\n",
    "print(json.dumps(data_eth, indent=4))"
   ]
  },
  {
   "cell_type": "code",
   "execution_count": 12,
   "metadata": {},
   "outputs": [
    {
     "name": "stdout",
     "output_type": "stream",
     "text": [
      "11322.85\n",
      "381.73\n"
     ]
    }
   ],
   "source": [
    "#Fetch current BTC and ETH price\n",
    "my_btc_price = data_btc[\"data\"][\"1\"][\"quotes\"][\"USD\"][\"price\"]\n",
    "my_eth_price = data_eth[\"data\"][\"1027\"][\"quotes\"][\"USD\"][\"price\"]\n",
    "print(my_btc_price)\n",
    "print(my_eth_price)"
   ]
  },
  {
   "cell_type": "code",
   "execution_count": 13,
   "metadata": {},
   "outputs": [
    {
     "name": "stdout",
     "output_type": "stream",
     "text": [
      "13587.42\n",
      "2023.17\n"
     ]
    }
   ],
   "source": [
    "#Compute current value of my crypto\n",
    "my_btc_value = round(my_btc * my_btc_price,2)\n",
    "my_eth_value = round(my_eth * my_eth_price,2)\n",
    "print(my_btc_value)\n",
    "print(my_eth_value)"
   ]
  },
  {
   "cell_type": "code",
   "execution_count": 14,
   "metadata": {},
   "outputs": [
    {
     "name": "stdout",
     "output_type": "stream",
     "text": [
      "The current value of your 1.2 BTC is $13587.42\n",
      "The current value of your 5.3 ETH is $2023.17\n"
     ]
    }
   ],
   "source": [
    "#Print current crypto wallet balance\n",
    "print(f\"The current value of your {my_btc} BTC is ${my_btc_value}\")\n",
    "print(f\"The current value of your {my_eth} ETH is ${my_eth_value}\")"
   ]
  },
  {
   "cell_type": "markdown",
   "metadata": {},
   "source": [
    "### Collect Investments Data Using Alpaca: `SPY` (stocks) and `AGG` (bonds)"
   ]
  },
  {
   "cell_type": "code",
   "execution_count": 15,
   "metadata": {},
   "outputs": [
    {
     "data": {
      "text/html": [
       "<div>\n",
       "<style scoped>\n",
       "    .dataframe tbody tr th:only-of-type {\n",
       "        vertical-align: middle;\n",
       "    }\n",
       "\n",
       "    .dataframe tbody tr th {\n",
       "        vertical-align: top;\n",
       "    }\n",
       "\n",
       "    .dataframe thead th {\n",
       "        text-align: right;\n",
       "    }\n",
       "</style>\n",
       "<table border=\"1\" class=\"dataframe\">\n",
       "  <thead>\n",
       "    <tr style=\"text-align: right;\">\n",
       "      <th></th>\n",
       "      <th>shares</th>\n",
       "    </tr>\n",
       "  </thead>\n",
       "  <tbody>\n",
       "    <tr>\n",
       "      <th>AGG</th>\n",
       "      <td>200</td>\n",
       "    </tr>\n",
       "    <tr>\n",
       "      <th>SPY</th>\n",
       "      <td>50</td>\n",
       "    </tr>\n",
       "  </tbody>\n",
       "</table>\n",
       "</div>"
      ],
      "text/plain": [
       "     shares\n",
       "AGG     200\n",
       "SPY      50"
      ]
     },
     "execution_count": 15,
     "metadata": {},
     "output_type": "execute_result"
    }
   ],
   "source": [
    "# Current amount of shares\n",
    "shares_data = {\"shares\": [200,50]}\n",
    "\n",
    "# Set the tickers\n",
    "tickers = [\"AGG\", \"SPY\"]\n",
    "\n",
    "#Create DataFrame\n",
    "df_shares = pd.DataFrame(shares_data, index=tickers)\n",
    "#Display shares\n",
    "df_shares"
   ]
  },
  {
   "cell_type": "code",
   "execution_count": 16,
   "metadata": {},
   "outputs": [
    {
     "name": "stdout",
     "output_type": "stream",
     "text": [
      "Alpaca Key type: <class 'str'>\n",
      "Alpaca Secret Key type: <class 'str'>\n"
     ]
    }
   ],
   "source": [
    "#Set Alpaca API key and secret \n",
    "alpaca_api_key = os.getenv(\"ALPACA_API_KEY\")\n",
    "alpaca_secret_key = os.getenv(\"ALPACA_SECRET_KEY\")\n",
    "print(f\"Alpaca Key type: {type(alpaca_api_key)}\")\n",
    "print(f\"Alpaca Secret Key type: {type(alpaca_secret_key)}\")"
   ]
  },
  {
   "cell_type": "code",
   "execution_count": 17,
   "metadata": {},
   "outputs": [],
   "source": [
    "#Create the Alpaca API Object\n",
    "alpaca = tradeapi.REST(\n",
    "    alpaca_api_key,\n",
    "    alpaca_secret_key,\n",
    "    api_version=\"v2\")"
   ]
  },
  {
   "cell_type": "code",
   "execution_count": 18,
   "metadata": {},
   "outputs": [
    {
     "name": "stdout",
     "output_type": "stream",
     "text": [
      "2020-08-25T20:19:44.251949-05:00\n"
     ]
    }
   ],
   "source": [
    "# Format current date as ISO format\n",
    "today = pd.Timestamp.now(tz=\"America/Chicago\").isoformat()\n",
    "print(today)"
   ]
  },
  {
   "cell_type": "code",
   "execution_count": 19,
   "metadata": {},
   "outputs": [],
   "source": [
    "# Set timeframe to '1D' for Alpaca API\n",
    "timeframe = \"1D\""
   ]
  },
  {
   "cell_type": "code",
   "execution_count": 20,
   "metadata": {},
   "outputs": [
    {
     "data": {
      "text/html": [
       "<div>\n",
       "<style scoped>\n",
       "    .dataframe tbody tr th:only-of-type {\n",
       "        vertical-align: middle;\n",
       "    }\n",
       "\n",
       "    .dataframe tbody tr th {\n",
       "        vertical-align: top;\n",
       "    }\n",
       "\n",
       "    .dataframe thead tr th {\n",
       "        text-align: left;\n",
       "    }\n",
       "</style>\n",
       "<table border=\"1\" class=\"dataframe\">\n",
       "  <thead>\n",
       "    <tr>\n",
       "      <th></th>\n",
       "      <th colspan=\"5\" halign=\"left\">AGG</th>\n",
       "      <th colspan=\"5\" halign=\"left\">SPY</th>\n",
       "    </tr>\n",
       "    <tr>\n",
       "      <th></th>\n",
       "      <th>open</th>\n",
       "      <th>high</th>\n",
       "      <th>low</th>\n",
       "      <th>close</th>\n",
       "      <th>volume</th>\n",
       "      <th>open</th>\n",
       "      <th>high</th>\n",
       "      <th>low</th>\n",
       "      <th>close</th>\n",
       "      <th>volume</th>\n",
       "    </tr>\n",
       "  </thead>\n",
       "  <tbody>\n",
       "    <tr>\n",
       "      <th>2020-08-25 00:00:00-04:00</th>\n",
       "      <td>118.35</td>\n",
       "      <td>118.46</td>\n",
       "      <td>118.18</td>\n",
       "      <td>118.39</td>\n",
       "      <td>7179314</td>\n",
       "      <td>343.53</td>\n",
       "      <td>344.21</td>\n",
       "      <td>342.27</td>\n",
       "      <td>344.1</td>\n",
       "      <td>64468899</td>\n",
       "    </tr>\n",
       "  </tbody>\n",
       "</table>\n",
       "</div>"
      ],
      "text/plain": [
       "                              AGG                                      SPY  \\\n",
       "                             open    high     low   close   volume    open   \n",
       "2020-08-25 00:00:00-04:00  118.35  118.46  118.18  118.39  7179314  343.53   \n",
       "\n",
       "                                                            \n",
       "                             high     low  close    volume  \n",
       "2020-08-25 00:00:00-04:00  344.21  342.27  344.1  64468899  "
      ]
     },
     "execution_count": 20,
     "metadata": {},
     "output_type": "execute_result"
    }
   ],
   "source": [
    "#Get current closing prices for SPY and AGG\n",
    "df_portfolio = alpaca.get_barset(\n",
    "    tickers,\n",
    "    timeframe,\n",
    "    start = today,\n",
    "    end = today\n",
    ").df.round(decimals=2)\n",
    "df_portfolio"
   ]
  },
  {
   "cell_type": "code",
   "execution_count": 21,
   "metadata": {},
   "outputs": [
    {
     "name": "stdout",
     "output_type": "stream",
     "text": [
      "Current AGG closing price: $118.39\n",
      "Current SPY closing price: $344.1\n"
     ]
    }
   ],
   "source": [
    "# Pick AGG and SPY close prices\n",
    "agg_close_price = float(df_portfolio[\"AGG\"][\"close\"])\n",
    "spy_close_price = float(df_portfolio[\"SPY\"][\"close\"])\n",
    "print(f\"Current AGG closing price: ${agg_close_price}\")\n",
    "print(f\"Current SPY closing price: ${spy_close_price}\")"
   ]
  },
  {
   "cell_type": "code",
   "execution_count": 22,
   "metadata": {},
   "outputs": [
    {
     "name": "stdout",
     "output_type": "stream",
     "text": [
      "The current value of the 200 AGG shares is $23678.0\n",
      "The current value of the 50 SPY shares is $17205.0\n"
     ]
    }
   ],
   "source": [
    "#Compute current value of shares\n",
    "agg_value = agg_close_price * df_shares.loc[\"AGG\"][\"shares\"]\n",
    "spy_value = spy_close_price * df_shares.loc[\"SPY\"][\"shares\"]\n",
    "#Print current value of share\n",
    "print(f\"The current value of the {df_shares.loc['AGG']['shares']} AGG shares is ${agg_value}\")\n",
    "print(f\"The current value of the {df_shares.loc['SPY']['shares']} SPY shares is ${spy_value}\")"
   ]
  },
  {
   "cell_type": "markdown",
   "metadata": {},
   "source": [
    "### Savings Health Analysis"
   ]
  },
  {
   "cell_type": "code",
   "execution_count": 23,
   "metadata": {},
   "outputs": [
    {
     "data": {
      "text/html": [
       "<div>\n",
       "<style scoped>\n",
       "    .dataframe tbody tr th:only-of-type {\n",
       "        vertical-align: middle;\n",
       "    }\n",
       "\n",
       "    .dataframe tbody tr th {\n",
       "        vertical-align: top;\n",
       "    }\n",
       "\n",
       "    .dataframe thead th {\n",
       "        text-align: right;\n",
       "    }\n",
       "</style>\n",
       "<table border=\"1\" class=\"dataframe\">\n",
       "  <thead>\n",
       "    <tr style=\"text-align: right;\">\n",
       "      <th></th>\n",
       "      <th>Amount</th>\n",
       "    </tr>\n",
       "  </thead>\n",
       "  <tbody>\n",
       "    <tr>\n",
       "      <th>Crypto</th>\n",
       "      <td>15610.59</td>\n",
       "    </tr>\n",
       "    <tr>\n",
       "      <th>Shares</th>\n",
       "      <td>40883.00</td>\n",
       "    </tr>\n",
       "  </tbody>\n",
       "</table>\n",
       "</div>"
      ],
      "text/plain": [
       "          Amount\n",
       "Crypto  15610.59\n",
       "Shares  40883.00"
      ]
     },
     "execution_count": 23,
     "metadata": {},
     "output_type": "execute_result"
    }
   ],
   "source": [
    "# Create savings DataFrame\n",
    "#Calculate total $ amount of Crypto currency\n",
    "crypto_value = (my_btc_value + my_eth_value)\n",
    "#Calculate total $ amount of Shares \n",
    "shares_value = (agg_value + spy_value)\n",
    "#Create savings DataFrame\n",
    "savings_value = {\n",
    "    \"Amount\": (crypto_value, shares_value),\n",
    "    \"Shares\": (shares_value),\n",
    "    \"Crypto\": (crypto_value)}\n",
    "df_savings = pd.DataFrame(savings_value, index=[\"Crypto\",\"Shares\"], columns=[\"Amount\"])\n",
    "df_savings"
   ]
  },
  {
   "cell_type": "code",
   "execution_count": 24,
   "metadata": {},
   "outputs": [
    {
     "data": {
      "text/plain": [
       "<matplotlib.axes._subplots.AxesSubplot at 0x7f86b1c2cf50>"
      ]
     },
     "execution_count": 24,
     "metadata": {},
     "output_type": "execute_result"
    },
    {
     "data": {
      "image/png": "[encoded data removed]",
      "text/plain": [
       "<Figure size 432x288 with 1 Axes>"
      ]
     },
     "metadata": {},
     "output_type": "display_data"
    }
   ],
   "source": [
    "#Plot savings pie chart\n",
    "df_savings.plot.pie(y=\"Amount\", title=\"Portfolio Pie Chart\")"
   ]
  },
  {
   "cell_type": "code",
   "execution_count": 25,
   "metadata": {},
   "outputs": [
    {
     "name": "stdout",
     "output_type": "stream",
     "text": [
      "Congratulations you have enoung money in this fund!\n"
     ]
    }
   ],
   "source": [
    "# Set ideal emergency fund\n",
    "emergency_fund = monthly_income * 3\n",
    "\n",
    "# Calculate total amount of savings\n",
    "total_savings = (crypto_value + shares_value)\n",
    "surplus_shortage = round(total_savings - emergency_fund,2)\n",
    "# Validate saving health\n",
    "if total_savings > emergency_fund:\n",
    "    print(\"Congratulations you have enoung money in this fund!\")\n",
    "elif total_savings == emergency_fund:\n",
    "    print(\"Congratulation on reaching your financial goal!\")\n",
    "else:\n",
    "    print(f\"You are {surplus_shortage} away from reaching your goal\")"
   ]
  },
  {
   "cell_type": "markdown",
   "metadata": {},
   "source": [
    "## Part 2 - Retirement Planning\n",
    "\n",
    "### Monte Carlo Simulation"
   ]
  },
  {
   "cell_type": "code",
   "execution_count": 26,
   "metadata": {},
   "outputs": [],
   "source": [
    "# Set start and end dates of five years back from today.\n",
    "# Sample results may vary from the solution based on the time frame chosen\n",
    "start_date = pd.Timestamp.now(tz='America/Chicago').isoformat()\n",
    "end_date = pd.Timestamp.now(tz='America/Chicago').isoformat()"
   ]
  },
  {
   "cell_type": "code",
   "execution_count": 27,
   "metadata": {},
   "outputs": [
    {
     "data": {
      "text/html": [
       "<div>\n",
       "<style scoped>\n",
       "    .dataframe tbody tr th:only-of-type {\n",
       "        vertical-align: middle;\n",
       "    }\n",
       "\n",
       "    .dataframe tbody tr th {\n",
       "        vertical-align: top;\n",
       "    }\n",
       "\n",
       "    .dataframe thead tr th {\n",
       "        text-align: left;\n",
       "    }\n",
       "</style>\n",
       "<table border=\"1\" class=\"dataframe\">\n",
       "  <thead>\n",
       "    <tr>\n",
       "      <th></th>\n",
       "      <th colspan=\"5\" halign=\"left\">AGG</th>\n",
       "      <th colspan=\"5\" halign=\"left\">SPY</th>\n",
       "    </tr>\n",
       "    <tr>\n",
       "      <th></th>\n",
       "      <th>open</th>\n",
       "      <th>high</th>\n",
       "      <th>low</th>\n",
       "      <th>close</th>\n",
       "      <th>volume</th>\n",
       "      <th>open</th>\n",
       "      <th>high</th>\n",
       "      <th>low</th>\n",
       "      <th>close</th>\n",
       "      <th>volume</th>\n",
       "    </tr>\n",
       "  </thead>\n",
       "  <tbody>\n",
       "    <tr>\n",
       "      <th>2015-08-25 00:00:00-04:00</th>\n",
       "      <td>109.70</td>\n",
       "      <td>109.700</td>\n",
       "      <td>109.13</td>\n",
       "      <td>109.450</td>\n",
       "      <td>3843124.0</td>\n",
       "      <td>195.43</td>\n",
       "      <td>195.450</td>\n",
       "      <td>187.06</td>\n",
       "      <td>187.24</td>\n",
       "      <td>270267060</td>\n",
       "    </tr>\n",
       "    <tr>\n",
       "      <th>2015-08-26 00:00:00-04:00</th>\n",
       "      <td>109.08</td>\n",
       "      <td>109.410</td>\n",
       "      <td>108.88</td>\n",
       "      <td>108.950</td>\n",
       "      <td>3673170.0</td>\n",
       "      <td>192.08</td>\n",
       "      <td>194.790</td>\n",
       "      <td>188.37</td>\n",
       "      <td>194.56</td>\n",
       "      <td>255843495</td>\n",
       "    </tr>\n",
       "    <tr>\n",
       "      <th>2015-08-27 00:00:00-04:00</th>\n",
       "      <td>108.95</td>\n",
       "      <td>109.195</td>\n",
       "      <td>108.93</td>\n",
       "      <td>109.100</td>\n",
       "      <td>3454665.0</td>\n",
       "      <td>197.02</td>\n",
       "      <td>199.410</td>\n",
       "      <td>195.21</td>\n",
       "      <td>199.28</td>\n",
       "      <td>226847229</td>\n",
       "    </tr>\n",
       "    <tr>\n",
       "      <th>2015-08-28 00:00:00-04:00</th>\n",
       "      <td>109.34</td>\n",
       "      <td>109.370</td>\n",
       "      <td>108.93</td>\n",
       "      <td>109.001</td>\n",
       "      <td>4604866.0</td>\n",
       "      <td>198.50</td>\n",
       "      <td>199.835</td>\n",
       "      <td>197.92</td>\n",
       "      <td>199.28</td>\n",
       "      <td>111959716</td>\n",
       "    </tr>\n",
       "    <tr>\n",
       "      <th>2015-08-31 00:00:00-04:00</th>\n",
       "      <td>109.28</td>\n",
       "      <td>109.370</td>\n",
       "      <td>108.90</td>\n",
       "      <td>108.920</td>\n",
       "      <td>3866305.0</td>\n",
       "      <td>198.11</td>\n",
       "      <td>199.125</td>\n",
       "      <td>197.01</td>\n",
       "      <td>197.60</td>\n",
       "      <td>108023599</td>\n",
       "    </tr>\n",
       "  </tbody>\n",
       "</table>\n",
       "</div>"
      ],
      "text/plain": [
       "                              AGG                                       \\\n",
       "                             open     high     low    close     volume   \n",
       "2015-08-25 00:00:00-04:00  109.70  109.700  109.13  109.450  3843124.0   \n",
       "2015-08-26 00:00:00-04:00  109.08  109.410  108.88  108.950  3673170.0   \n",
       "2015-08-27 00:00:00-04:00  108.95  109.195  108.93  109.100  3454665.0   \n",
       "2015-08-28 00:00:00-04:00  109.34  109.370  108.93  109.001  4604866.0   \n",
       "2015-08-31 00:00:00-04:00  109.28  109.370  108.90  108.920  3866305.0   \n",
       "\n",
       "                              SPY                                      \n",
       "                             open     high     low   close     volume  \n",
       "2015-08-25 00:00:00-04:00  195.43  195.450  187.06  187.24  270267060  \n",
       "2015-08-26 00:00:00-04:00  192.08  194.790  188.37  194.56  255843495  \n",
       "2015-08-27 00:00:00-04:00  197.02  199.410  195.21  199.28  226847229  \n",
       "2015-08-28 00:00:00-04:00  198.50  199.835  197.92  199.28  111959716  \n",
       "2015-08-31 00:00:00-04:00  198.11  199.125  197.01  197.60  108023599  "
      ]
     },
     "execution_count": 27,
     "metadata": {},
     "output_type": "execute_result"
    }
   ],
   "source": [
    "#Get 5 years historical data for 'SPY' and 'AGG'\n",
    "# Set start and end dates of five years back from today.\n",
    "end_date = pd.Timestamp.now(tz=\"America/Chicago\")\n",
    "start_date = (end_date - pd.DateOffset(years=5)).isoformat()\n",
    "\n",
    "# Set the ticker information\n",
    "tickers = [\"SPY\",\"AGG\"]\n",
    "\n",
    "df_ticker = alpaca.get_barset(\n",
    "    tickers,\n",
    "    timeframe,\n",
    "    start=start_date,\n",
    "    end=end_date\n",
    ").df\n",
    "\n",
    "# Display sample data\n",
    "df_ticker.head()"
   ]
  },
  {
   "cell_type": "code",
   "execution_count": 28,
   "metadata": {},
   "outputs": [],
   "source": [
    "# Configuring a Monte Carlo simulation to forecast 30 years cumulative returns\n",
    "MC_30year = MCSimulation(\n",
    "    portfolio_data = df_ticker,\n",
    "    weights = [.60,.40],\n",
    "    num_simulation = 500,\n",
    "    num_trading_days = 252*30\n",
    ")"
   ]
  },
  {
   "cell_type": "code",
   "execution_count": 29,
   "metadata": {},
   "outputs": [
    {
     "data": {
      "text/html": [
       "<div>\n",
       "<style scoped>\n",
       "    .dataframe tbody tr th:only-of-type {\n",
       "        vertical-align: middle;\n",
       "    }\n",
       "\n",
       "    .dataframe tbody tr th {\n",
       "        vertical-align: top;\n",
       "    }\n",
       "\n",
       "    .dataframe thead tr th {\n",
       "        text-align: left;\n",
       "    }\n",
       "</style>\n",
       "<table border=\"1\" class=\"dataframe\">\n",
       "  <thead>\n",
       "    <tr>\n",
       "      <th></th>\n",
       "      <th colspan=\"6\" halign=\"left\">AGG</th>\n",
       "      <th colspan=\"6\" halign=\"left\">SPY</th>\n",
       "    </tr>\n",
       "    <tr>\n",
       "      <th></th>\n",
       "      <th>open</th>\n",
       "      <th>high</th>\n",
       "      <th>low</th>\n",
       "      <th>close</th>\n",
       "      <th>volume</th>\n",
       "      <th>daily_return</th>\n",
       "      <th>open</th>\n",
       "      <th>high</th>\n",
       "      <th>low</th>\n",
       "      <th>close</th>\n",
       "      <th>volume</th>\n",
       "      <th>daily_return</th>\n",
       "    </tr>\n",
       "  </thead>\n",
       "  <tbody>\n",
       "    <tr>\n",
       "      <th>2015-08-25 00:00:00-04:00</th>\n",
       "      <td>109.70</td>\n",
       "      <td>109.700</td>\n",
       "      <td>109.13</td>\n",
       "      <td>109.450</td>\n",
       "      <td>3843124.0</td>\n",
       "      <td>NaN</td>\n",
       "      <td>195.43</td>\n",
       "      <td>195.450</td>\n",
       "      <td>187.06</td>\n",
       "      <td>187.24</td>\n",
       "      <td>270267060</td>\n",
       "      <td>NaN</td>\n",
       "    </tr>\n",
       "    <tr>\n",
       "      <th>2015-08-26 00:00:00-04:00</th>\n",
       "      <td>109.08</td>\n",
       "      <td>109.410</td>\n",
       "      <td>108.88</td>\n",
       "      <td>108.950</td>\n",
       "      <td>3673170.0</td>\n",
       "      <td>-0.004568</td>\n",
       "      <td>192.08</td>\n",
       "      <td>194.790</td>\n",
       "      <td>188.37</td>\n",
       "      <td>194.56</td>\n",
       "      <td>255843495</td>\n",
       "      <td>0.039094</td>\n",
       "    </tr>\n",
       "    <tr>\n",
       "      <th>2015-08-27 00:00:00-04:00</th>\n",
       "      <td>108.95</td>\n",
       "      <td>109.195</td>\n",
       "      <td>108.93</td>\n",
       "      <td>109.100</td>\n",
       "      <td>3454665.0</td>\n",
       "      <td>0.001377</td>\n",
       "      <td>197.02</td>\n",
       "      <td>199.410</td>\n",
       "      <td>195.21</td>\n",
       "      <td>199.28</td>\n",
       "      <td>226847229</td>\n",
       "      <td>0.024260</td>\n",
       "    </tr>\n",
       "    <tr>\n",
       "      <th>2015-08-28 00:00:00-04:00</th>\n",
       "      <td>109.34</td>\n",
       "      <td>109.370</td>\n",
       "      <td>108.93</td>\n",
       "      <td>109.001</td>\n",
       "      <td>4604866.0</td>\n",
       "      <td>-0.000907</td>\n",
       "      <td>198.50</td>\n",
       "      <td>199.835</td>\n",
       "      <td>197.92</td>\n",
       "      <td>199.28</td>\n",
       "      <td>111959716</td>\n",
       "      <td>0.000000</td>\n",
       "    </tr>\n",
       "    <tr>\n",
       "      <th>2015-08-31 00:00:00-04:00</th>\n",
       "      <td>109.28</td>\n",
       "      <td>109.370</td>\n",
       "      <td>108.90</td>\n",
       "      <td>108.920</td>\n",
       "      <td>3866305.0</td>\n",
       "      <td>-0.000743</td>\n",
       "      <td>198.11</td>\n",
       "      <td>199.125</td>\n",
       "      <td>197.01</td>\n",
       "      <td>197.60</td>\n",
       "      <td>108023599</td>\n",
       "      <td>-0.008430</td>\n",
       "    </tr>\n",
       "  </tbody>\n",
       "</table>\n",
       "</div>"
      ],
      "text/plain": [
       "                              AGG                                       \\\n",
       "                             open     high     low    close     volume   \n",
       "2015-08-25 00:00:00-04:00  109.70  109.700  109.13  109.450  3843124.0   \n",
       "2015-08-26 00:00:00-04:00  109.08  109.410  108.88  108.950  3673170.0   \n",
       "2015-08-27 00:00:00-04:00  108.95  109.195  108.93  109.100  3454665.0   \n",
       "2015-08-28 00:00:00-04:00  109.34  109.370  108.93  109.001  4604866.0   \n",
       "2015-08-31 00:00:00-04:00  109.28  109.370  108.90  108.920  3866305.0   \n",
       "\n",
       "                                           SPY                           \\\n",
       "                          daily_return    open     high     low   close   \n",
       "2015-08-25 00:00:00-04:00          NaN  195.43  195.450  187.06  187.24   \n",
       "2015-08-26 00:00:00-04:00    -0.004568  192.08  194.790  188.37  194.56   \n",
       "2015-08-27 00:00:00-04:00     0.001377  197.02  199.410  195.21  199.28   \n",
       "2015-08-28 00:00:00-04:00    -0.000907  198.50  199.835  197.92  199.28   \n",
       "2015-08-31 00:00:00-04:00    -0.000743  198.11  199.125  197.01  197.60   \n",
       "\n",
       "                                                   \n",
       "                              volume daily_return  \n",
       "2015-08-25 00:00:00-04:00  270267060          NaN  \n",
       "2015-08-26 00:00:00-04:00  255843495     0.039094  \n",
       "2015-08-27 00:00:00-04:00  226847229     0.024260  \n",
       "2015-08-28 00:00:00-04:00  111959716     0.000000  \n",
       "2015-08-31 00:00:00-04:00  108023599    -0.008430  "
      ]
     },
     "execution_count": 29,
     "metadata": {},
     "output_type": "execute_result"
    }
   ],
   "source": [
    "# Printing the simulation input data\n",
    "MC_30year.portfolio_data.head()"
   ]
  },
  {
   "cell_type": "code",
   "execution_count": 30,
   "metadata": {},
   "outputs": [
    {
     "name": "stdout",
     "output_type": "stream",
     "text": [
      "Running Monte Carlo simulation number 0.\n",
      "Running Monte Carlo simulation number 100.\n",
      "Running Monte Carlo simulation number 200.\n",
      "Running Monte Carlo simulation number 300.\n",
      "Running Monte Carlo simulation number 400.\n"
     ]
    },
    {
     "data": {
      "text/html": [
       "<div>\n",
       "<style scoped>\n",
       "    .dataframe tbody tr th:only-of-type {\n",
       "        vertical-align: middle;\n",
       "    }\n",
       "\n",
       "    .dataframe tbody tr th {\n",
       "        vertical-align: top;\n",
       "    }\n",
       "\n",
       "    .dataframe thead th {\n",
       "        text-align: right;\n",
       "    }\n",
       "</style>\n",
       "<table border=\"1\" class=\"dataframe\">\n",
       "  <thead>\n",
       "    <tr style=\"text-align: right;\">\n",
       "      <th></th>\n",
       "      <th>0</th>\n",
       "      <th>1</th>\n",
       "      <th>2</th>\n",
       "      <th>3</th>\n",
       "      <th>4</th>\n",
       "      <th>5</th>\n",
       "      <th>6</th>\n",
       "      <th>7</th>\n",
       "      <th>8</th>\n",
       "      <th>9</th>\n",
       "      <th>...</th>\n",
       "      <th>490</th>\n",
       "      <th>491</th>\n",
       "      <th>492</th>\n",
       "      <th>493</th>\n",
       "      <th>494</th>\n",
       "      <th>495</th>\n",
       "      <th>496</th>\n",
       "      <th>497</th>\n",
       "      <th>498</th>\n",
       "      <th>499</th>\n",
       "    </tr>\n",
       "  </thead>\n",
       "  <tbody>\n",
       "    <tr>\n",
       "      <th>0</th>\n",
       "      <td>1.000000</td>\n",
       "      <td>1.000000</td>\n",
       "      <td>1.000000</td>\n",
       "      <td>1.000000</td>\n",
       "      <td>1.000000</td>\n",
       "      <td>1.000000</td>\n",
       "      <td>1.000000</td>\n",
       "      <td>1.000000</td>\n",
       "      <td>1.000000</td>\n",
       "      <td>1.000000</td>\n",
       "      <td>...</td>\n",
       "      <td>1.000000</td>\n",
       "      <td>1.000000</td>\n",
       "      <td>1.000000</td>\n",
       "      <td>1.000000</td>\n",
       "      <td>1.000000</td>\n",
       "      <td>1.000000</td>\n",
       "      <td>1.000000</td>\n",
       "      <td>1.000000</td>\n",
       "      <td>1.000000</td>\n",
       "      <td>1.000000</td>\n",
       "    </tr>\n",
       "    <tr>\n",
       "      <th>1</th>\n",
       "      <td>1.002280</td>\n",
       "      <td>1.003423</td>\n",
       "      <td>1.001873</td>\n",
       "      <td>0.997100</td>\n",
       "      <td>1.008680</td>\n",
       "      <td>0.997383</td>\n",
       "      <td>1.004259</td>\n",
       "      <td>0.991909</td>\n",
       "      <td>1.000793</td>\n",
       "      <td>0.999718</td>\n",
       "      <td>...</td>\n",
       "      <td>0.993755</td>\n",
       "      <td>1.002151</td>\n",
       "      <td>1.000345</td>\n",
       "      <td>0.995111</td>\n",
       "      <td>1.004861</td>\n",
       "      <td>1.001320</td>\n",
       "      <td>1.006786</td>\n",
       "      <td>1.009713</td>\n",
       "      <td>0.999342</td>\n",
       "      <td>0.996070</td>\n",
       "    </tr>\n",
       "    <tr>\n",
       "      <th>2</th>\n",
       "      <td>0.998504</td>\n",
       "      <td>1.006941</td>\n",
       "      <td>1.004093</td>\n",
       "      <td>0.993431</td>\n",
       "      <td>1.013030</td>\n",
       "      <td>1.004450</td>\n",
       "      <td>1.000655</td>\n",
       "      <td>0.983560</td>\n",
       "      <td>0.999245</td>\n",
       "      <td>1.010078</td>\n",
       "      <td>...</td>\n",
       "      <td>0.993925</td>\n",
       "      <td>1.000407</td>\n",
       "      <td>0.995950</td>\n",
       "      <td>0.996074</td>\n",
       "      <td>1.005073</td>\n",
       "      <td>0.992518</td>\n",
       "      <td>1.004427</td>\n",
       "      <td>1.014139</td>\n",
       "      <td>1.002258</td>\n",
       "      <td>0.995928</td>\n",
       "    </tr>\n",
       "    <tr>\n",
       "      <th>3</th>\n",
       "      <td>0.998740</td>\n",
       "      <td>1.009821</td>\n",
       "      <td>1.008337</td>\n",
       "      <td>0.989076</td>\n",
       "      <td>1.002694</td>\n",
       "      <td>0.999989</td>\n",
       "      <td>0.991026</td>\n",
       "      <td>0.983938</td>\n",
       "      <td>1.001951</td>\n",
       "      <td>0.999275</td>\n",
       "      <td>...</td>\n",
       "      <td>0.988092</td>\n",
       "      <td>0.995156</td>\n",
       "      <td>1.003289</td>\n",
       "      <td>0.985667</td>\n",
       "      <td>1.008285</td>\n",
       "      <td>0.998389</td>\n",
       "      <td>1.007113</td>\n",
       "      <td>1.015278</td>\n",
       "      <td>0.999716</td>\n",
       "      <td>0.990962</td>\n",
       "    </tr>\n",
       "    <tr>\n",
       "      <th>4</th>\n",
       "      <td>0.998857</td>\n",
       "      <td>1.009659</td>\n",
       "      <td>1.006680</td>\n",
       "      <td>0.984809</td>\n",
       "      <td>1.003398</td>\n",
       "      <td>0.995675</td>\n",
       "      <td>0.991680</td>\n",
       "      <td>0.986033</td>\n",
       "      <td>1.003197</td>\n",
       "      <td>0.996268</td>\n",
       "      <td>...</td>\n",
       "      <td>0.987209</td>\n",
       "      <td>0.993839</td>\n",
       "      <td>1.000080</td>\n",
       "      <td>0.987014</td>\n",
       "      <td>0.998637</td>\n",
       "      <td>1.002573</td>\n",
       "      <td>1.002933</td>\n",
       "      <td>1.022905</td>\n",
       "      <td>0.992564</td>\n",
       "      <td>0.992239</td>\n",
       "    </tr>\n",
       "    <tr>\n",
       "      <th>...</th>\n",
       "      <td>...</td>\n",
       "      <td>...</td>\n",
       "      <td>...</td>\n",
       "      <td>...</td>\n",
       "      <td>...</td>\n",
       "      <td>...</td>\n",
       "      <td>...</td>\n",
       "      <td>...</td>\n",
       "      <td>...</td>\n",
       "      <td>...</td>\n",
       "      <td>...</td>\n",
       "      <td>...</td>\n",
       "      <td>...</td>\n",
       "      <td>...</td>\n",
       "      <td>...</td>\n",
       "      <td>...</td>\n",
       "      <td>...</td>\n",
       "      <td>...</td>\n",
       "      <td>...</td>\n",
       "      <td>...</td>\n",
       "      <td>...</td>\n",
       "    </tr>\n",
       "    <tr>\n",
       "      <th>7556</th>\n",
       "      <td>13.808629</td>\n",
       "      <td>4.348157</td>\n",
       "      <td>21.388896</td>\n",
       "      <td>5.355110</td>\n",
       "      <td>6.019210</td>\n",
       "      <td>3.163648</td>\n",
       "      <td>7.830064</td>\n",
       "      <td>15.319050</td>\n",
       "      <td>5.492157</td>\n",
       "      <td>6.115513</td>\n",
       "      <td>...</td>\n",
       "      <td>7.516371</td>\n",
       "      <td>3.246559</td>\n",
       "      <td>2.863307</td>\n",
       "      <td>9.928203</td>\n",
       "      <td>2.066033</td>\n",
       "      <td>6.778610</td>\n",
       "      <td>3.001369</td>\n",
       "      <td>4.470137</td>\n",
       "      <td>5.859057</td>\n",
       "      <td>9.654130</td>\n",
       "    </tr>\n",
       "    <tr>\n",
       "      <th>7557</th>\n",
       "      <td>13.719187</td>\n",
       "      <td>4.339473</td>\n",
       "      <td>21.296865</td>\n",
       "      <td>5.365597</td>\n",
       "      <td>5.984268</td>\n",
       "      <td>3.160489</td>\n",
       "      <td>7.780684</td>\n",
       "      <td>15.410269</td>\n",
       "      <td>5.448894</td>\n",
       "      <td>6.107651</td>\n",
       "      <td>...</td>\n",
       "      <td>7.639256</td>\n",
       "      <td>3.234783</td>\n",
       "      <td>2.887967</td>\n",
       "      <td>9.909240</td>\n",
       "      <td>2.056558</td>\n",
       "      <td>6.770773</td>\n",
       "      <td>2.995193</td>\n",
       "      <td>4.501486</td>\n",
       "      <td>5.853873</td>\n",
       "      <td>9.650053</td>\n",
       "    </tr>\n",
       "    <tr>\n",
       "      <th>7558</th>\n",
       "      <td>13.647254</td>\n",
       "      <td>4.303456</td>\n",
       "      <td>21.439523</td>\n",
       "      <td>5.388882</td>\n",
       "      <td>5.992273</td>\n",
       "      <td>3.171328</td>\n",
       "      <td>7.754629</td>\n",
       "      <td>15.481811</td>\n",
       "      <td>5.456168</td>\n",
       "      <td>6.104194</td>\n",
       "      <td>...</td>\n",
       "      <td>7.649920</td>\n",
       "      <td>3.235492</td>\n",
       "      <td>2.889061</td>\n",
       "      <td>9.960814</td>\n",
       "      <td>2.054406</td>\n",
       "      <td>6.699709</td>\n",
       "      <td>3.000441</td>\n",
       "      <td>4.503599</td>\n",
       "      <td>5.838752</td>\n",
       "      <td>9.594177</td>\n",
       "    </tr>\n",
       "    <tr>\n",
       "      <th>7559</th>\n",
       "      <td>13.605031</td>\n",
       "      <td>4.303678</td>\n",
       "      <td>21.377250</td>\n",
       "      <td>5.382077</td>\n",
       "      <td>5.966345</td>\n",
       "      <td>3.172529</td>\n",
       "      <td>7.722859</td>\n",
       "      <td>15.620463</td>\n",
       "      <td>5.509341</td>\n",
       "      <td>6.135472</td>\n",
       "      <td>...</td>\n",
       "      <td>7.584094</td>\n",
       "      <td>3.231216</td>\n",
       "      <td>2.899225</td>\n",
       "      <td>9.953083</td>\n",
       "      <td>2.072313</td>\n",
       "      <td>6.754010</td>\n",
       "      <td>2.996103</td>\n",
       "      <td>4.435640</td>\n",
       "      <td>5.873008</td>\n",
       "      <td>9.528187</td>\n",
       "    </tr>\n",
       "    <tr>\n",
       "      <th>7560</th>\n",
       "      <td>13.545027</td>\n",
       "      <td>4.294133</td>\n",
       "      <td>21.430519</td>\n",
       "      <td>5.407121</td>\n",
       "      <td>6.004847</td>\n",
       "      <td>3.166689</td>\n",
       "      <td>7.688782</td>\n",
       "      <td>15.553644</td>\n",
       "      <td>5.560526</td>\n",
       "      <td>6.128159</td>\n",
       "      <td>...</td>\n",
       "      <td>7.593582</td>\n",
       "      <td>3.253748</td>\n",
       "      <td>2.938076</td>\n",
       "      <td>9.907080</td>\n",
       "      <td>2.068066</td>\n",
       "      <td>6.783925</td>\n",
       "      <td>3.018146</td>\n",
       "      <td>4.444529</td>\n",
       "      <td>5.874155</td>\n",
       "      <td>9.552846</td>\n",
       "    </tr>\n",
       "  </tbody>\n",
       "</table>\n",
       "<p>7561 rows × 500 columns</p>\n",
       "</div>"
      ],
      "text/plain": [
       "            0         1          2         3         4         5         6    \\\n",
       "0      1.000000  1.000000   1.000000  1.000000  1.000000  1.000000  1.000000   \n",
       "1      1.002280  1.003423   1.001873  0.997100  1.008680  0.997383  1.004259   \n",
       "2      0.998504  1.006941   1.004093  0.993431  1.013030  1.004450  1.000655   \n",
       "3      0.998740  1.009821   1.008337  0.989076  1.002694  0.999989  0.991026   \n",
       "4      0.998857  1.009659   1.006680  0.984809  1.003398  0.995675  0.991680   \n",
       "...         ...       ...        ...       ...       ...       ...       ...   \n",
       "7556  13.808629  4.348157  21.388896  5.355110  6.019210  3.163648  7.830064   \n",
       "7557  13.719187  4.339473  21.296865  5.365597  5.984268  3.160489  7.780684   \n",
       "7558  13.647254  4.303456  21.439523  5.388882  5.992273  3.171328  7.754629   \n",
       "7559  13.605031  4.303678  21.377250  5.382077  5.966345  3.172529  7.722859   \n",
       "7560  13.545027  4.294133  21.430519  5.407121  6.004847  3.166689  7.688782   \n",
       "\n",
       "            7         8         9    ...       490       491       492  \\\n",
       "0      1.000000  1.000000  1.000000  ...  1.000000  1.000000  1.000000   \n",
       "1      0.991909  1.000793  0.999718  ...  0.993755  1.002151  1.000345   \n",
       "2      0.983560  0.999245  1.010078  ...  0.993925  1.000407  0.995950   \n",
       "3      0.983938  1.001951  0.999275  ...  0.988092  0.995156  1.003289   \n",
       "4      0.986033  1.003197  0.996268  ...  0.987209  0.993839  1.000080   \n",
       "...         ...       ...       ...  ...       ...       ...       ...   \n",
       "7556  15.319050  5.492157  6.115513  ...  7.516371  3.246559  2.863307   \n",
       "7557  15.410269  5.448894  6.107651  ...  7.639256  3.234783  2.887967   \n",
       "7558  15.481811  5.456168  6.104194  ...  7.649920  3.235492  2.889061   \n",
       "7559  15.620463  5.509341  6.135472  ...  7.584094  3.231216  2.899225   \n",
       "7560  15.553644  5.560526  6.128159  ...  7.593582  3.253748  2.938076   \n",
       "\n",
       "           493       494       495       496       497       498       499  \n",
       "0     1.000000  1.000000  1.000000  1.000000  1.000000  1.000000  1.000000  \n",
       "1     0.995111  1.004861  1.001320  1.006786  1.009713  0.999342  0.996070  \n",
       "2     0.996074  1.005073  0.992518  1.004427  1.014139  1.002258  0.995928  \n",
       "3     0.985667  1.008285  0.998389  1.007113  1.015278  0.999716  0.990962  \n",
       "4     0.987014  0.998637  1.002573  1.002933  1.022905  0.992564  0.992239  \n",
       "...        ...       ...       ...       ...       ...       ...       ...  \n",
       "7556  9.928203  2.066033  6.778610  3.001369  4.470137  5.859057  9.654130  \n",
       "7557  9.909240  2.056558  6.770773  2.995193  4.501486  5.853873  9.650053  \n",
       "7558  9.960814  2.054406  6.699709  3.000441  4.503599  5.838752  9.594177  \n",
       "7559  9.953083  2.072313  6.754010  2.996103  4.435640  5.873008  9.528187  \n",
       "7560  9.907080  2.068066  6.783925  3.018146  4.444529  5.874155  9.552846  \n",
       "\n",
       "[7561 rows x 500 columns]"
      ]
     },
     "execution_count": 30,
     "metadata": {},
     "output_type": "execute_result"
    }
   ],
   "source": [
    "# Running a Monte Carlo simulation to forecast 30 years cumulative returns\n",
    "MC_30year.calc_cumulative_return()"
   ]
  },
  {
   "cell_type": "code",
   "execution_count": 31,
   "metadata": {},
   "outputs": [
    {
     "data": {
      "image/png": "[encoded data removed]",
      "text/plain": [
       "<Figure size 432x288 with 1 Axes>"
      ]
     },
     "metadata": {
      "needs_background": "light"
     },
     "output_type": "display_data"
    }
   ],
   "source": [
    "#Plot simulation outcomes\n",
    "line_plot = MC_30year.plot_simulation()"
   ]
  },
  {
   "cell_type": "code",
   "execution_count": 32,
   "metadata": {},
   "outputs": [
    {
     "data": {
      "image/png": "[encoded data removed]",
      "text/plain": [
       "<Figure size 432x288 with 1 Axes>"
      ]
     },
     "metadata": {
      "needs_background": "light"
     },
     "output_type": "display_data"
    }
   ],
   "source": [
    "# Plot probability distribution and confidence intervals\n",
    "dist_plot = MC_30year.plot_distribution()\n",
    "\n",
    "# Save the plot for future usage\n",
    "dist_plot.get_figure().savefig('MC_30year_dist_plot.png',bbox_inches='tight')"
   ]
  },
  {
   "cell_type": "markdown",
   "metadata": {},
   "source": [
    "### Retirement Analysis"
   ]
  },
  {
   "cell_type": "code",
   "execution_count": 33,
   "metadata": {},
   "outputs": [
    {
     "name": "stdout",
     "output_type": "stream",
     "text": [
      "count           500.000000\n",
      "mean              7.277266\n",
      "std               3.393414\n",
      "min               2.041236\n",
      "25%               5.006267\n",
      "50%               6.688386\n",
      "75%               8.764525\n",
      "max              26.432812\n",
      "95% CI Lower      2.825973\n",
      "95% CI Upper     16.116271\n",
      "Name: 7560, dtype: float64\n"
     ]
    }
   ],
   "source": [
    "# Fetch summary statistics from the Monte Carlo simulation results\n",
    "tbl = MC_30year.summarize_cumulative_return()\n",
    "\n",
    "# Print summary statistics\n",
    "print(tbl)"
   ]
  },
  {
   "cell_type": "markdown",
   "metadata": {},
   "source": [
    "### Given an initial investment of $20,000, what is the expected portfolio return in dollars at the 95% lower and upper confidence intervals?"
   ]
  },
  {
   "cell_type": "code",
   "execution_count": 34,
   "metadata": {},
   "outputs": [
    {
     "name": "stdout",
     "output_type": "stream",
     "text": [
      "There is a 95% chance that an initial investment of $20000 in the portfolio over the next 30 years will end within in the range of $56519.45 and $322325.42\n"
     ]
    }
   ],
   "source": [
    "# Use the lower and upper `95%` confidence intervals to calculate the range of the possible outcomes of our $20,000\n",
    "initial_investment = 20000\n",
    "ci_lower = round(tbl[8]*initial_investment,2)\n",
    "ci_upper = round(tbl[9]*initial_investment,2)\n",
    "\n",
    "# Print results\n",
    "print(f\"There is a 95% chance that an initial investment of ${initial_investment} in the portfolio\"\n",
    "      f\" over the next 30 years will end within in the range of\"\n",
    "      f\" ${ci_lower} and ${ci_upper}\")"
   ]
  },
  {
   "cell_type": "markdown",
   "metadata": {},
   "source": [
    "### How would a 50% increase in the initial investment amount affect the expected portfolio return in dollars at the 95% lower and upper confidence intervals?"
   ]
  },
  {
   "cell_type": "code",
   "execution_count": 35,
   "metadata": {},
   "outputs": [
    {
     "name": "stdout",
     "output_type": "stream",
     "text": [
      "There is a 95% chance that an initial investment of $20000 in the portfolio over the next 30 years will end within in the range of $84779.18 and $483488.14\n"
     ]
    }
   ],
   "source": [
    "# Set initial investment\n",
    "initial_investment_50 = 20000 * 1.5\n",
    "\n",
    "# Use the lower and upper `95%` confidence intervals to calculate the range of the possible outcomes of our $30,000\n",
    "ci_lower = round(tbl[8]*initial_investment_50,2)\n",
    "ci_upper = round(tbl[9]*initial_investment_50,2)\n",
    "# Print results\n",
    "print(f\"There is a 95% chance that an initial investment of ${initial_investment} in the portfolio\"\n",
    "      f\" over the next 30 years will end within in the range of\"\n",
    "      f\" ${ci_lower} and ${ci_upper}\")"
   ]
  },
  {
   "cell_type": "markdown",
   "metadata": {},
   "source": [
    "## Optional Challenge - Early Retirement\n",
    "\n",
    "\n",
    "### Five Years Retirement Option"
   ]
  },
  {
   "cell_type": "code",
   "execution_count": 36,
   "metadata": {},
   "outputs": [],
   "source": [
    "# Configuring a Monte Carlo simulation to forecast 5 years cumulative returns\n",
    "MC_5year = MCSimulation(\n",
    "    portfolio_data = df_ticker,\n",
    "    weights = [.20,.80],\n",
    "    num_simulation = 500,\n",
    "    num_trading_days = 252*5\n",
    ")"
   ]
  },
  {
   "cell_type": "code",
   "execution_count": 37,
   "metadata": {},
   "outputs": [
    {
     "name": "stdout",
     "output_type": "stream",
     "text": [
      "Running Monte Carlo simulation number 0.\n",
      "Running Monte Carlo simulation number 100.\n",
      "Running Monte Carlo simulation number 200.\n",
      "Running Monte Carlo simulation number 300.\n",
      "Running Monte Carlo simulation number 400.\n"
     ]
    },
    {
     "data": {
      "text/html": [
       "<div>\n",
       "<style scoped>\n",
       "    .dataframe tbody tr th:only-of-type {\n",
       "        vertical-align: middle;\n",
       "    }\n",
       "\n",
       "    .dataframe tbody tr th {\n",
       "        vertical-align: top;\n",
       "    }\n",
       "\n",
       "    .dataframe thead th {\n",
       "        text-align: right;\n",
       "    }\n",
       "</style>\n",
       "<table border=\"1\" class=\"dataframe\">\n",
       "  <thead>\n",
       "    <tr style=\"text-align: right;\">\n",
       "      <th></th>\n",
       "      <th>0</th>\n",
       "      <th>1</th>\n",
       "      <th>2</th>\n",
       "      <th>3</th>\n",
       "      <th>4</th>\n",
       "      <th>5</th>\n",
       "      <th>6</th>\n",
       "      <th>7</th>\n",
       "      <th>8</th>\n",
       "      <th>9</th>\n",
       "      <th>...</th>\n",
       "      <th>490</th>\n",
       "      <th>491</th>\n",
       "      <th>492</th>\n",
       "      <th>493</th>\n",
       "      <th>494</th>\n",
       "      <th>495</th>\n",
       "      <th>496</th>\n",
       "      <th>497</th>\n",
       "      <th>498</th>\n",
       "      <th>499</th>\n",
       "    </tr>\n",
       "  </thead>\n",
       "  <tbody>\n",
       "    <tr>\n",
       "      <th>0</th>\n",
       "      <td>1.000000</td>\n",
       "      <td>1.000000</td>\n",
       "      <td>1.000000</td>\n",
       "      <td>1.000000</td>\n",
       "      <td>1.000000</td>\n",
       "      <td>1.000000</td>\n",
       "      <td>1.000000</td>\n",
       "      <td>1.000000</td>\n",
       "      <td>1.000000</td>\n",
       "      <td>1.000000</td>\n",
       "      <td>...</td>\n",
       "      <td>1.000000</td>\n",
       "      <td>1.000000</td>\n",
       "      <td>1.000000</td>\n",
       "      <td>1.000000</td>\n",
       "      <td>1.000000</td>\n",
       "      <td>1.000000</td>\n",
       "      <td>1.000000</td>\n",
       "      <td>1.000000</td>\n",
       "      <td>1.000000</td>\n",
       "      <td>1.000000</td>\n",
       "    </tr>\n",
       "    <tr>\n",
       "      <th>1</th>\n",
       "      <td>0.995816</td>\n",
       "      <td>1.016676</td>\n",
       "      <td>0.992285</td>\n",
       "      <td>1.005528</td>\n",
       "      <td>1.012281</td>\n",
       "      <td>1.001593</td>\n",
       "      <td>1.006188</td>\n",
       "      <td>0.997941</td>\n",
       "      <td>1.001250</td>\n",
       "      <td>1.021233</td>\n",
       "      <td>...</td>\n",
       "      <td>1.001645</td>\n",
       "      <td>0.985461</td>\n",
       "      <td>1.014167</td>\n",
       "      <td>0.985309</td>\n",
       "      <td>1.002888</td>\n",
       "      <td>1.006848</td>\n",
       "      <td>0.983536</td>\n",
       "      <td>1.007627</td>\n",
       "      <td>0.991280</td>\n",
       "      <td>1.010245</td>\n",
       "    </tr>\n",
       "    <tr>\n",
       "      <th>2</th>\n",
       "      <td>1.006535</td>\n",
       "      <td>0.998431</td>\n",
       "      <td>0.979104</td>\n",
       "      <td>1.008131</td>\n",
       "      <td>0.998048</td>\n",
       "      <td>0.999587</td>\n",
       "      <td>1.006276</td>\n",
       "      <td>0.992618</td>\n",
       "      <td>1.003423</td>\n",
       "      <td>1.025536</td>\n",
       "      <td>...</td>\n",
       "      <td>1.012401</td>\n",
       "      <td>0.981519</td>\n",
       "      <td>1.025228</td>\n",
       "      <td>0.986027</td>\n",
       "      <td>0.997172</td>\n",
       "      <td>1.016974</td>\n",
       "      <td>0.975161</td>\n",
       "      <td>1.004651</td>\n",
       "      <td>0.995435</td>\n",
       "      <td>1.009974</td>\n",
       "    </tr>\n",
       "    <tr>\n",
       "      <th>3</th>\n",
       "      <td>1.009590</td>\n",
       "      <td>1.004872</td>\n",
       "      <td>0.966491</td>\n",
       "      <td>1.010379</td>\n",
       "      <td>1.001730</td>\n",
       "      <td>1.005750</td>\n",
       "      <td>1.019143</td>\n",
       "      <td>0.994920</td>\n",
       "      <td>0.996003</td>\n",
       "      <td>1.034505</td>\n",
       "      <td>...</td>\n",
       "      <td>1.008756</td>\n",
       "      <td>0.977605</td>\n",
       "      <td>1.027740</td>\n",
       "      <td>0.999507</td>\n",
       "      <td>0.985584</td>\n",
       "      <td>1.027513</td>\n",
       "      <td>0.966435</td>\n",
       "      <td>0.998496</td>\n",
       "      <td>1.000995</td>\n",
       "      <td>1.030396</td>\n",
       "    </tr>\n",
       "    <tr>\n",
       "      <th>4</th>\n",
       "      <td>0.995610</td>\n",
       "      <td>1.004643</td>\n",
       "      <td>0.964457</td>\n",
       "      <td>1.005464</td>\n",
       "      <td>0.993954</td>\n",
       "      <td>1.003656</td>\n",
       "      <td>1.012798</td>\n",
       "      <td>0.990396</td>\n",
       "      <td>1.003942</td>\n",
       "      <td>1.032515</td>\n",
       "      <td>...</td>\n",
       "      <td>1.006649</td>\n",
       "      <td>0.981535</td>\n",
       "      <td>1.005732</td>\n",
       "      <td>1.001657</td>\n",
       "      <td>0.987192</td>\n",
       "      <td>1.035594</td>\n",
       "      <td>0.955008</td>\n",
       "      <td>0.986283</td>\n",
       "      <td>0.988085</td>\n",
       "      <td>1.028436</td>\n",
       "    </tr>\n",
       "    <tr>\n",
       "      <th>...</th>\n",
       "      <td>...</td>\n",
       "      <td>...</td>\n",
       "      <td>...</td>\n",
       "      <td>...</td>\n",
       "      <td>...</td>\n",
       "      <td>...</td>\n",
       "      <td>...</td>\n",
       "      <td>...</td>\n",
       "      <td>...</td>\n",
       "      <td>...</td>\n",
       "      <td>...</td>\n",
       "      <td>...</td>\n",
       "      <td>...</td>\n",
       "      <td>...</td>\n",
       "      <td>...</td>\n",
       "      <td>...</td>\n",
       "      <td>...</td>\n",
       "      <td>...</td>\n",
       "      <td>...</td>\n",
       "      <td>...</td>\n",
       "      <td>...</td>\n",
       "    </tr>\n",
       "    <tr>\n",
       "      <th>1256</th>\n",
       "      <td>1.940367</td>\n",
       "      <td>1.442992</td>\n",
       "      <td>1.695058</td>\n",
       "      <td>2.672721</td>\n",
       "      <td>2.627684</td>\n",
       "      <td>1.570262</td>\n",
       "      <td>1.257856</td>\n",
       "      <td>1.399676</td>\n",
       "      <td>1.045947</td>\n",
       "      <td>1.442399</td>\n",
       "      <td>...</td>\n",
       "      <td>1.518154</td>\n",
       "      <td>3.023663</td>\n",
       "      <td>1.435020</td>\n",
       "      <td>1.818019</td>\n",
       "      <td>1.250457</td>\n",
       "      <td>1.984106</td>\n",
       "      <td>1.559649</td>\n",
       "      <td>1.550381</td>\n",
       "      <td>1.914662</td>\n",
       "      <td>1.340216</td>\n",
       "    </tr>\n",
       "    <tr>\n",
       "      <th>1257</th>\n",
       "      <td>1.961353</td>\n",
       "      <td>1.440552</td>\n",
       "      <td>1.705497</td>\n",
       "      <td>2.677542</td>\n",
       "      <td>2.622822</td>\n",
       "      <td>1.595511</td>\n",
       "      <td>1.267539</td>\n",
       "      <td>1.396854</td>\n",
       "      <td>1.046485</td>\n",
       "      <td>1.456800</td>\n",
       "      <td>...</td>\n",
       "      <td>1.514138</td>\n",
       "      <td>3.012511</td>\n",
       "      <td>1.417834</td>\n",
       "      <td>1.823773</td>\n",
       "      <td>1.261304</td>\n",
       "      <td>1.993630</td>\n",
       "      <td>1.542998</td>\n",
       "      <td>1.538829</td>\n",
       "      <td>1.899416</td>\n",
       "      <td>1.366569</td>\n",
       "    </tr>\n",
       "    <tr>\n",
       "      <th>1258</th>\n",
       "      <td>1.981180</td>\n",
       "      <td>1.409231</td>\n",
       "      <td>1.741561</td>\n",
       "      <td>2.655698</td>\n",
       "      <td>2.631871</td>\n",
       "      <td>1.613067</td>\n",
       "      <td>1.251744</td>\n",
       "      <td>1.417017</td>\n",
       "      <td>1.046069</td>\n",
       "      <td>1.468338</td>\n",
       "      <td>...</td>\n",
       "      <td>1.545965</td>\n",
       "      <td>2.981971</td>\n",
       "      <td>1.430456</td>\n",
       "      <td>1.823541</td>\n",
       "      <td>1.284253</td>\n",
       "      <td>1.995599</td>\n",
       "      <td>1.554846</td>\n",
       "      <td>1.523727</td>\n",
       "      <td>1.854237</td>\n",
       "      <td>1.368871</td>\n",
       "    </tr>\n",
       "    <tr>\n",
       "      <th>1259</th>\n",
       "      <td>2.013334</td>\n",
       "      <td>1.417943</td>\n",
       "      <td>1.747300</td>\n",
       "      <td>2.673874</td>\n",
       "      <td>2.631566</td>\n",
       "      <td>1.613622</td>\n",
       "      <td>1.276859</td>\n",
       "      <td>1.393613</td>\n",
       "      <td>1.039568</td>\n",
       "      <td>1.450360</td>\n",
       "      <td>...</td>\n",
       "      <td>1.545787</td>\n",
       "      <td>3.009047</td>\n",
       "      <td>1.442023</td>\n",
       "      <td>1.823341</td>\n",
       "      <td>1.303066</td>\n",
       "      <td>2.006027</td>\n",
       "      <td>1.557638</td>\n",
       "      <td>1.530539</td>\n",
       "      <td>1.861793</td>\n",
       "      <td>1.370517</td>\n",
       "    </tr>\n",
       "    <tr>\n",
       "      <th>1260</th>\n",
       "      <td>1.995632</td>\n",
       "      <td>1.424844</td>\n",
       "      <td>1.729521</td>\n",
       "      <td>2.673815</td>\n",
       "      <td>2.648389</td>\n",
       "      <td>1.591752</td>\n",
       "      <td>1.269090</td>\n",
       "      <td>1.399552</td>\n",
       "      <td>1.052429</td>\n",
       "      <td>1.451623</td>\n",
       "      <td>...</td>\n",
       "      <td>1.548665</td>\n",
       "      <td>3.008240</td>\n",
       "      <td>1.434560</td>\n",
       "      <td>1.823633</td>\n",
       "      <td>1.307793</td>\n",
       "      <td>1.973226</td>\n",
       "      <td>1.564246</td>\n",
       "      <td>1.542915</td>\n",
       "      <td>1.890724</td>\n",
       "      <td>1.389581</td>\n",
       "    </tr>\n",
       "  </tbody>\n",
       "</table>\n",
       "<p>1261 rows × 500 columns</p>\n",
       "</div>"
      ],
      "text/plain": [
       "           0         1         2         3         4         5         6    \\\n",
       "0     1.000000  1.000000  1.000000  1.000000  1.000000  1.000000  1.000000   \n",
       "1     0.995816  1.016676  0.992285  1.005528  1.012281  1.001593  1.006188   \n",
       "2     1.006535  0.998431  0.979104  1.008131  0.998048  0.999587  1.006276   \n",
       "3     1.009590  1.004872  0.966491  1.010379  1.001730  1.005750  1.019143   \n",
       "4     0.995610  1.004643  0.964457  1.005464  0.993954  1.003656  1.012798   \n",
       "...        ...       ...       ...       ...       ...       ...       ...   \n",
       "1256  1.940367  1.442992  1.695058  2.672721  2.627684  1.570262  1.257856   \n",
       "1257  1.961353  1.440552  1.705497  2.677542  2.622822  1.595511  1.267539   \n",
       "1258  1.981180  1.409231  1.741561  2.655698  2.631871  1.613067  1.251744   \n",
       "1259  2.013334  1.417943  1.747300  2.673874  2.631566  1.613622  1.276859   \n",
       "1260  1.995632  1.424844  1.729521  2.673815  2.648389  1.591752  1.269090   \n",
       "\n",
       "           7         8         9    ...       490       491       492  \\\n",
       "0     1.000000  1.000000  1.000000  ...  1.000000  1.000000  1.000000   \n",
       "1     0.997941  1.001250  1.021233  ...  1.001645  0.985461  1.014167   \n",
       "2     0.992618  1.003423  1.025536  ...  1.012401  0.981519  1.025228   \n",
       "3     0.994920  0.996003  1.034505  ...  1.008756  0.977605  1.027740   \n",
       "4     0.990396  1.003942  1.032515  ...  1.006649  0.981535  1.005732   \n",
       "...        ...       ...       ...  ...       ...       ...       ...   \n",
       "1256  1.399676  1.045947  1.442399  ...  1.518154  3.023663  1.435020   \n",
       "1257  1.396854  1.046485  1.456800  ...  1.514138  3.012511  1.417834   \n",
       "1258  1.417017  1.046069  1.468338  ...  1.545965  2.981971  1.430456   \n",
       "1259  1.393613  1.039568  1.450360  ...  1.545787  3.009047  1.442023   \n",
       "1260  1.399552  1.052429  1.451623  ...  1.548665  3.008240  1.434560   \n",
       "\n",
       "           493       494       495       496       497       498       499  \n",
       "0     1.000000  1.000000  1.000000  1.000000  1.000000  1.000000  1.000000  \n",
       "1     0.985309  1.002888  1.006848  0.983536  1.007627  0.991280  1.010245  \n",
       "2     0.986027  0.997172  1.016974  0.975161  1.004651  0.995435  1.009974  \n",
       "3     0.999507  0.985584  1.027513  0.966435  0.998496  1.000995  1.030396  \n",
       "4     1.001657  0.987192  1.035594  0.955008  0.986283  0.988085  1.028436  \n",
       "...        ...       ...       ...       ...       ...       ...       ...  \n",
       "1256  1.818019  1.250457  1.984106  1.559649  1.550381  1.914662  1.340216  \n",
       "1257  1.823773  1.261304  1.993630  1.542998  1.538829  1.899416  1.366569  \n",
       "1258  1.823541  1.284253  1.995599  1.554846  1.523727  1.854237  1.368871  \n",
       "1259  1.823341  1.303066  2.006027  1.557638  1.530539  1.861793  1.370517  \n",
       "1260  1.823633  1.307793  1.973226  1.564246  1.542915  1.890724  1.389581  \n",
       "\n",
       "[1261 rows x 500 columns]"
      ]
     },
     "execution_count": 37,
     "metadata": {},
     "output_type": "execute_result"
    }
   ],
   "source": [
    "# Running a Monte Carlo simulation to forecast 5 years cumulative returns\n",
    "MC_5year.calc_cumulative_return()"
   ]
  },
  {
   "cell_type": "code",
   "execution_count": 38,
   "metadata": {},
   "outputs": [
    {
     "data": {
      "image/png": "[encoded data removed]",
      "text/plain": [
       "<Figure size 432x288 with 1 Axes>"
      ]
     },
     "metadata": {
      "needs_background": "light"
     },
     "output_type": "display_data"
    }
   ],
   "source": [
    "# Plot simulation outcomes\n",
    "line_plot = MC_5year.plot_simulation()"
   ]
  },
  {
   "cell_type": "code",
   "execution_count": 39,
   "metadata": {},
   "outputs": [
    {
     "data": {
      "image/png": "[encoded data removed]",
      "text/plain": [
       "<Figure size 432x288 with 1 Axes>"
      ]
     },
     "metadata": {
      "needs_background": "light"
     },
     "output_type": "display_data"
    }
   ],
   "source": [
    "# Plot probability distribution and confidence intervals\n",
    "dist_plot = MC_5year.plot_distribution()\n",
    "\n",
    "# Save the plot for future usage\n",
    "dist_plot.get_figure().savefig('MC_5year_dist_plot.png',bbox_inches='tight')"
   ]
  },
  {
   "cell_type": "code",
   "execution_count": 40,
   "metadata": {},
   "outputs": [
    {
     "name": "stdout",
     "output_type": "stream",
     "text": [
      "count           500.000000\n",
      "mean              1.738177\n",
      "std               0.591560\n",
      "min               0.620800\n",
      "25%               1.337222\n",
      "50%               1.627564\n",
      "75%               2.057295\n",
      "max               4.454307\n",
      "95% CI Lower      0.870814\n",
      "95% CI Upper      3.150642\n",
      "Name: 1260, dtype: float64\n"
     ]
    }
   ],
   "source": [
    "# Fetch summary statistics from the Monte Carlo simulation results\n",
    "tbl_five = MC_5year.summarize_cumulative_return()\n",
    "\n",
    "# Print summary statistics\n",
    "print(tbl_five)"
   ]
  },
  {
   "cell_type": "code",
   "execution_count": 41,
   "metadata": {},
   "outputs": [
    {
     "name": "stdout",
     "output_type": "stream",
     "text": [
      "There is a 95% chance that an initial investment of $60000 in the portfolio over the next 5 years will end within in the range of $169558.36 and $966976.27\n"
     ]
    }
   ],
   "source": [
    "#Set initial investment to $60,000\n",
    "#Use the lower and upper `95%` confidence intervals to calculate the range of the possible outcomes of our $60,000\n",
    "initial_investment_60k_five = 60000\n",
    "ci_lower_five = round(tbl[8]*initial_investment_60k_five,2)\n",
    "ci_upper_five = round(tbl[9]*initial_investment_60k_five,2)\n",
    "\n",
    "# Print results\n",
    "print(f\"There is a 95% chance that an initial investment of ${initial_investment_60k_five} in the portfolio\"\n",
    "      f\" over the next 5 years will end within in the range of\"\n",
    "      f\" ${ci_lower_five} and ${ci_upper_five}\")"
   ]
  },
  {
   "cell_type": "markdown",
   "metadata": {},
   "source": [
    "### Ten Years Retirement Option"
   ]
  },
  {
   "cell_type": "code",
   "execution_count": 42,
   "metadata": {},
   "outputs": [],
   "source": [
    "# Configuring a Monte Carlo simulation to forecast 10 years cumulative returns\n",
    "MC_10year = MCSimulation(\n",
    "    portfolio_data = df_ticker,\n",
    "    weights = [.20,.80],\n",
    "    num_simulation = 500,\n",
    "    num_trading_days = 252*10\n",
    ")"
   ]
  },
  {
   "cell_type": "code",
   "execution_count": 43,
   "metadata": {},
   "outputs": [
    {
     "name": "stdout",
     "output_type": "stream",
     "text": [
      "Running Monte Carlo simulation number 0.\n",
      "Running Monte Carlo simulation number 100.\n",
      "Running Monte Carlo simulation number 200.\n",
      "Running Monte Carlo simulation number 300.\n",
      "Running Monte Carlo simulation number 400.\n"
     ]
    },
    {
     "data": {
      "text/html": [
       "<div>\n",
       "<style scoped>\n",
       "    .dataframe tbody tr th:only-of-type {\n",
       "        vertical-align: middle;\n",
       "    }\n",
       "\n",
       "    .dataframe tbody tr th {\n",
       "        vertical-align: top;\n",
       "    }\n",
       "\n",
       "    .dataframe thead th {\n",
       "        text-align: right;\n",
       "    }\n",
       "</style>\n",
       "<table border=\"1\" class=\"dataframe\">\n",
       "  <thead>\n",
       "    <tr style=\"text-align: right;\">\n",
       "      <th></th>\n",
       "      <th>0</th>\n",
       "      <th>1</th>\n",
       "      <th>2</th>\n",
       "      <th>3</th>\n",
       "      <th>4</th>\n",
       "      <th>5</th>\n",
       "      <th>6</th>\n",
       "      <th>7</th>\n",
       "      <th>8</th>\n",
       "      <th>9</th>\n",
       "      <th>...</th>\n",
       "      <th>490</th>\n",
       "      <th>491</th>\n",
       "      <th>492</th>\n",
       "      <th>493</th>\n",
       "      <th>494</th>\n",
       "      <th>495</th>\n",
       "      <th>496</th>\n",
       "      <th>497</th>\n",
       "      <th>498</th>\n",
       "      <th>499</th>\n",
       "    </tr>\n",
       "  </thead>\n",
       "  <tbody>\n",
       "    <tr>\n",
       "      <th>0</th>\n",
       "      <td>1.000000</td>\n",
       "      <td>1.000000</td>\n",
       "      <td>1.000000</td>\n",
       "      <td>1.000000</td>\n",
       "      <td>1.000000</td>\n",
       "      <td>1.000000</td>\n",
       "      <td>1.000000</td>\n",
       "      <td>1.000000</td>\n",
       "      <td>1.000000</td>\n",
       "      <td>1.000000</td>\n",
       "      <td>...</td>\n",
       "      <td>1.000000</td>\n",
       "      <td>1.000000</td>\n",
       "      <td>1.000000</td>\n",
       "      <td>1.000000</td>\n",
       "      <td>1.000000</td>\n",
       "      <td>1.000000</td>\n",
       "      <td>1.000000</td>\n",
       "      <td>1.000000</td>\n",
       "      <td>1.000000</td>\n",
       "      <td>1.000000</td>\n",
       "    </tr>\n",
       "    <tr>\n",
       "      <th>1</th>\n",
       "      <td>0.997926</td>\n",
       "      <td>1.007787</td>\n",
       "      <td>1.003567</td>\n",
       "      <td>1.004788</td>\n",
       "      <td>0.984888</td>\n",
       "      <td>1.004490</td>\n",
       "      <td>1.013826</td>\n",
       "      <td>0.987156</td>\n",
       "      <td>1.017441</td>\n",
       "      <td>1.000750</td>\n",
       "      <td>...</td>\n",
       "      <td>1.006291</td>\n",
       "      <td>1.004237</td>\n",
       "      <td>1.005295</td>\n",
       "      <td>0.982338</td>\n",
       "      <td>0.998316</td>\n",
       "      <td>0.990646</td>\n",
       "      <td>0.999376</td>\n",
       "      <td>0.996832</td>\n",
       "      <td>0.989363</td>\n",
       "      <td>1.007638</td>\n",
       "    </tr>\n",
       "    <tr>\n",
       "      <th>2</th>\n",
       "      <td>0.983041</td>\n",
       "      <td>1.006111</td>\n",
       "      <td>1.012590</td>\n",
       "      <td>1.019273</td>\n",
       "      <td>1.002837</td>\n",
       "      <td>1.004451</td>\n",
       "      <td>1.018343</td>\n",
       "      <td>0.988749</td>\n",
       "      <td>1.022673</td>\n",
       "      <td>1.003869</td>\n",
       "      <td>...</td>\n",
       "      <td>1.018433</td>\n",
       "      <td>1.011281</td>\n",
       "      <td>1.022543</td>\n",
       "      <td>0.984522</td>\n",
       "      <td>1.000389</td>\n",
       "      <td>0.984696</td>\n",
       "      <td>1.002617</td>\n",
       "      <td>1.003681</td>\n",
       "      <td>1.007044</td>\n",
       "      <td>1.007032</td>\n",
       "    </tr>\n",
       "    <tr>\n",
       "      <th>3</th>\n",
       "      <td>0.972405</td>\n",
       "      <td>1.006787</td>\n",
       "      <td>1.021677</td>\n",
       "      <td>1.008812</td>\n",
       "      <td>0.985785</td>\n",
       "      <td>1.003437</td>\n",
       "      <td>1.019777</td>\n",
       "      <td>1.003633</td>\n",
       "      <td>1.022530</td>\n",
       "      <td>0.996203</td>\n",
       "      <td>...</td>\n",
       "      <td>1.031949</td>\n",
       "      <td>1.011500</td>\n",
       "      <td>1.019513</td>\n",
       "      <td>0.986673</td>\n",
       "      <td>1.002836</td>\n",
       "      <td>0.979911</td>\n",
       "      <td>1.012608</td>\n",
       "      <td>0.998621</td>\n",
       "      <td>1.001076</td>\n",
       "      <td>1.009001</td>\n",
       "    </tr>\n",
       "    <tr>\n",
       "      <th>4</th>\n",
       "      <td>0.972029</td>\n",
       "      <td>1.016442</td>\n",
       "      <td>1.022185</td>\n",
       "      <td>1.004631</td>\n",
       "      <td>0.989873</td>\n",
       "      <td>1.006929</td>\n",
       "      <td>1.019512</td>\n",
       "      <td>0.999974</td>\n",
       "      <td>1.022974</td>\n",
       "      <td>0.992911</td>\n",
       "      <td>...</td>\n",
       "      <td>1.032359</td>\n",
       "      <td>1.011924</td>\n",
       "      <td>1.016775</td>\n",
       "      <td>0.994763</td>\n",
       "      <td>1.008279</td>\n",
       "      <td>0.994295</td>\n",
       "      <td>1.022933</td>\n",
       "      <td>0.994953</td>\n",
       "      <td>0.998970</td>\n",
       "      <td>1.009225</td>\n",
       "    </tr>\n",
       "    <tr>\n",
       "      <th>...</th>\n",
       "      <td>...</td>\n",
       "      <td>...</td>\n",
       "      <td>...</td>\n",
       "      <td>...</td>\n",
       "      <td>...</td>\n",
       "      <td>...</td>\n",
       "      <td>...</td>\n",
       "      <td>...</td>\n",
       "      <td>...</td>\n",
       "      <td>...</td>\n",
       "      <td>...</td>\n",
       "      <td>...</td>\n",
       "      <td>...</td>\n",
       "      <td>...</td>\n",
       "      <td>...</td>\n",
       "      <td>...</td>\n",
       "      <td>...</td>\n",
       "      <td>...</td>\n",
       "      <td>...</td>\n",
       "      <td>...</td>\n",
       "      <td>...</td>\n",
       "    </tr>\n",
       "    <tr>\n",
       "      <th>2516</th>\n",
       "      <td>2.632184</td>\n",
       "      <td>3.066970</td>\n",
       "      <td>1.648641</td>\n",
       "      <td>3.340625</td>\n",
       "      <td>1.526493</td>\n",
       "      <td>3.201325</td>\n",
       "      <td>2.127548</td>\n",
       "      <td>4.843122</td>\n",
       "      <td>2.113065</td>\n",
       "      <td>4.255212</td>\n",
       "      <td>...</td>\n",
       "      <td>1.722941</td>\n",
       "      <td>2.682920</td>\n",
       "      <td>2.472326</td>\n",
       "      <td>3.954850</td>\n",
       "      <td>2.760406</td>\n",
       "      <td>2.237102</td>\n",
       "      <td>1.654597</td>\n",
       "      <td>2.239010</td>\n",
       "      <td>2.246610</td>\n",
       "      <td>3.579061</td>\n",
       "    </tr>\n",
       "    <tr>\n",
       "      <th>2517</th>\n",
       "      <td>2.647373</td>\n",
       "      <td>3.123570</td>\n",
       "      <td>1.636477</td>\n",
       "      <td>3.350001</td>\n",
       "      <td>1.508112</td>\n",
       "      <td>3.232664</td>\n",
       "      <td>2.103288</td>\n",
       "      <td>4.837386</td>\n",
       "      <td>2.113917</td>\n",
       "      <td>4.256005</td>\n",
       "      <td>...</td>\n",
       "      <td>1.720985</td>\n",
       "      <td>2.650875</td>\n",
       "      <td>2.474719</td>\n",
       "      <td>3.928130</td>\n",
       "      <td>2.773060</td>\n",
       "      <td>2.236069</td>\n",
       "      <td>1.633831</td>\n",
       "      <td>2.203922</td>\n",
       "      <td>2.242472</td>\n",
       "      <td>3.549866</td>\n",
       "    </tr>\n",
       "    <tr>\n",
       "      <th>2518</th>\n",
       "      <td>2.648486</td>\n",
       "      <td>3.171820</td>\n",
       "      <td>1.648969</td>\n",
       "      <td>3.250288</td>\n",
       "      <td>1.535734</td>\n",
       "      <td>3.237278</td>\n",
       "      <td>2.125151</td>\n",
       "      <td>4.905314</td>\n",
       "      <td>2.121403</td>\n",
       "      <td>4.280494</td>\n",
       "      <td>...</td>\n",
       "      <td>1.725821</td>\n",
       "      <td>2.615173</td>\n",
       "      <td>2.451904</td>\n",
       "      <td>3.959146</td>\n",
       "      <td>2.793625</td>\n",
       "      <td>2.219132</td>\n",
       "      <td>1.683128</td>\n",
       "      <td>2.211227</td>\n",
       "      <td>2.254320</td>\n",
       "      <td>3.525451</td>\n",
       "    </tr>\n",
       "    <tr>\n",
       "      <th>2519</th>\n",
       "      <td>2.643834</td>\n",
       "      <td>3.157143</td>\n",
       "      <td>1.629726</td>\n",
       "      <td>3.256367</td>\n",
       "      <td>1.535172</td>\n",
       "      <td>3.257140</td>\n",
       "      <td>2.169907</td>\n",
       "      <td>4.870427</td>\n",
       "      <td>2.128889</td>\n",
       "      <td>4.252998</td>\n",
       "      <td>...</td>\n",
       "      <td>1.748891</td>\n",
       "      <td>2.680138</td>\n",
       "      <td>2.462027</td>\n",
       "      <td>3.948448</td>\n",
       "      <td>2.817234</td>\n",
       "      <td>2.250520</td>\n",
       "      <td>1.711901</td>\n",
       "      <td>2.174074</td>\n",
       "      <td>2.270492</td>\n",
       "      <td>3.516772</td>\n",
       "    </tr>\n",
       "    <tr>\n",
       "      <th>2520</th>\n",
       "      <td>2.657007</td>\n",
       "      <td>3.162657</td>\n",
       "      <td>1.609081</td>\n",
       "      <td>3.217327</td>\n",
       "      <td>1.540295</td>\n",
       "      <td>3.257557</td>\n",
       "      <td>2.163439</td>\n",
       "      <td>4.864860</td>\n",
       "      <td>2.125507</td>\n",
       "      <td>4.361401</td>\n",
       "      <td>...</td>\n",
       "      <td>1.722355</td>\n",
       "      <td>2.658327</td>\n",
       "      <td>2.424631</td>\n",
       "      <td>3.931458</td>\n",
       "      <td>2.823662</td>\n",
       "      <td>2.237524</td>\n",
       "      <td>1.691880</td>\n",
       "      <td>2.209093</td>\n",
       "      <td>2.250565</td>\n",
       "      <td>3.546762</td>\n",
       "    </tr>\n",
       "  </tbody>\n",
       "</table>\n",
       "<p>2521 rows × 500 columns</p>\n",
       "</div>"
      ],
      "text/plain": [
       "           0         1         2         3         4         5         6    \\\n",
       "0     1.000000  1.000000  1.000000  1.000000  1.000000  1.000000  1.000000   \n",
       "1     0.997926  1.007787  1.003567  1.004788  0.984888  1.004490  1.013826   \n",
       "2     0.983041  1.006111  1.012590  1.019273  1.002837  1.004451  1.018343   \n",
       "3     0.972405  1.006787  1.021677  1.008812  0.985785  1.003437  1.019777   \n",
       "4     0.972029  1.016442  1.022185  1.004631  0.989873  1.006929  1.019512   \n",
       "...        ...       ...       ...       ...       ...       ...       ...   \n",
       "2516  2.632184  3.066970  1.648641  3.340625  1.526493  3.201325  2.127548   \n",
       "2517  2.647373  3.123570  1.636477  3.350001  1.508112  3.232664  2.103288   \n",
       "2518  2.648486  3.171820  1.648969  3.250288  1.535734  3.237278  2.125151   \n",
       "2519  2.643834  3.157143  1.629726  3.256367  1.535172  3.257140  2.169907   \n",
       "2520  2.657007  3.162657  1.609081  3.217327  1.540295  3.257557  2.163439   \n",
       "\n",
       "           7         8         9    ...       490       491       492  \\\n",
       "0     1.000000  1.000000  1.000000  ...  1.000000  1.000000  1.000000   \n",
       "1     0.987156  1.017441  1.000750  ...  1.006291  1.004237  1.005295   \n",
       "2     0.988749  1.022673  1.003869  ...  1.018433  1.011281  1.022543   \n",
       "3     1.003633  1.022530  0.996203  ...  1.031949  1.011500  1.019513   \n",
       "4     0.999974  1.022974  0.992911  ...  1.032359  1.011924  1.016775   \n",
       "...        ...       ...       ...  ...       ...       ...       ...   \n",
       "2516  4.843122  2.113065  4.255212  ...  1.722941  2.682920  2.472326   \n",
       "2517  4.837386  2.113917  4.256005  ...  1.720985  2.650875  2.474719   \n",
       "2518  4.905314  2.121403  4.280494  ...  1.725821  2.615173  2.451904   \n",
       "2519  4.870427  2.128889  4.252998  ...  1.748891  2.680138  2.462027   \n",
       "2520  4.864860  2.125507  4.361401  ...  1.722355  2.658327  2.424631   \n",
       "\n",
       "           493       494       495       496       497       498       499  \n",
       "0     1.000000  1.000000  1.000000  1.000000  1.000000  1.000000  1.000000  \n",
       "1     0.982338  0.998316  0.990646  0.999376  0.996832  0.989363  1.007638  \n",
       "2     0.984522  1.000389  0.984696  1.002617  1.003681  1.007044  1.007032  \n",
       "3     0.986673  1.002836  0.979911  1.012608  0.998621  1.001076  1.009001  \n",
       "4     0.994763  1.008279  0.994295  1.022933  0.994953  0.998970  1.009225  \n",
       "...        ...       ...       ...       ...       ...       ...       ...  \n",
       "2516  3.954850  2.760406  2.237102  1.654597  2.239010  2.246610  3.579061  \n",
       "2517  3.928130  2.773060  2.236069  1.633831  2.203922  2.242472  3.549866  \n",
       "2518  3.959146  2.793625  2.219132  1.683128  2.211227  2.254320  3.525451  \n",
       "2519  3.948448  2.817234  2.250520  1.711901  2.174074  2.270492  3.516772  \n",
       "2520  3.931458  2.823662  2.237524  1.691880  2.209093  2.250565  3.546762  \n",
       "\n",
       "[2521 rows x 500 columns]"
      ]
     },
     "execution_count": 43,
     "metadata": {},
     "output_type": "execute_result"
    }
   ],
   "source": [
    "# Running a Monte Carlo simulation to forecast 10 years cumulative returns\n",
    "MC_10year.calc_cumulative_return()"
   ]
  },
  {
   "cell_type": "code",
   "execution_count": 44,
   "metadata": {},
   "outputs": [
    {
     "data": {
      "image/png": "[encoded data removed]",
      "text/plain": [
       "<Figure size 432x288 with 1 Axes>"
      ]
     },
     "metadata": {
      "needs_background": "light"
     },
     "output_type": "display_data"
    }
   ],
   "source": [
    "# Plot simulation outcomes\n",
    "line_plot = MC_10year.plot_simulation()"
   ]
  },
  {
   "cell_type": "code",
   "execution_count": 45,
   "metadata": {},
   "outputs": [
    {
     "data": {
      "image/png": "[encoded data removed]",
      "text/plain": [
       "<Figure size 432x288 with 1 Axes>"
      ]
     },
     "metadata": {
      "needs_background": "light"
     },
     "output_type": "display_data"
    }
   ],
   "source": [
    "# Plot probability distribution and confidence intervals\n",
    "dist_plot = MC_10year.plot_distribution()\n",
    "\n",
    "# Save the plot for future usage\n",
    "dist_plot.get_figure().savefig('MC_10year_dist_plot.png',bbox_inches='tight')"
   ]
  },
  {
   "cell_type": "code",
   "execution_count": 46,
   "metadata": {},
   "outputs": [
    {
     "name": "stdout",
     "output_type": "stream",
     "text": [
      "count           500.000000\n",
      "mean              3.160864\n",
      "std               1.736994\n",
      "min               0.629795\n",
      "25%               1.970595\n",
      "50%               2.826596\n",
      "75%               3.869678\n",
      "max              16.356514\n",
      "95% CI Lower      1.126566\n",
      "95% CI Upper      7.368707\n",
      "Name: 2520, dtype: float64\n"
     ]
    }
   ],
   "source": [
    "# Fetch summary statistics from the Monte Carlo simulation results\n",
    "tbl_ten = MC_10year.summarize_cumulative_return()\n",
    "\n",
    "# Print summary statistics\n",
    "print(tbl_ten)"
   ]
  },
  {
   "cell_type": "code",
   "execution_count": 47,
   "metadata": {},
   "outputs": [
    {
     "name": "stdout",
     "output_type": "stream",
     "text": [
      "There is a 95% chance that an initial investment of $60000 in the portfolio over the next 10 years will end within in the range of $169558.36 and $966976.27\n"
     ]
    }
   ],
   "source": [
    "# Set initial investment to $60,000\n",
    "# Use the lower and upper `95%` confidence intervals to calculate the range of the possible outcomes of our $60,000\n",
    "initial_investment_60k_ten = 60000\n",
    "ci_lower_ten = round(tbl[8]*initial_investment_60k_ten,2)\n",
    "ci_upper_ten = round(tbl[9]*initial_investment_60k_ten,2)\n",
    "\n",
    "\n",
    "# YOUR CODE HERE!\n",
    "\n",
    "# Print results\n",
    "print(f\"There is a 95% chance that an initial investment of ${initial_investment_60k_ten} in the portfolio\"\n",
    "      f\" over the next 10 years will end within in the range of\"\n",
    "      f\" ${ci_lower_ten} and ${ci_upper_ten}\")"
   ]
  }
 ],
 "metadata": {
  "kernelspec": {
   "display_name": "Python 3",
   "language": "python",
   "name": "python3"
  },
  "language_info": {
   "codemirror_mode": {
    "name": "ipython",
    "version": 3
   },
   "file_extension": ".py",
   "mimetype": "text/x-python",
   "name": "python",
   "nbconvert_exporter": "python",
   "pygments_lexer": "ipython3",
   "version": "3.7.7"
  }
 },
 "nbformat": 4,
 "nbformat_minor": 4
}
